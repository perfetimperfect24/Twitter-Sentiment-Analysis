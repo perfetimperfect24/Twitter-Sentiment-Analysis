{
 "cells": [
  {
   "cell_type": "markdown",
   "metadata": {},
   "source": [
    "# Twitter Sentiment Analysis "
   ]
  },
  {
   "cell_type": "code",
   "execution_count": 1,
   "metadata": {},
   "outputs": [],
   "source": [
    "# data link: https://raw.githubusercontent.com/laxmimerit/twitter-data/master/twitt30k.csv"
   ]
  },
  {
   "cell_type": "code",
   "execution_count": 2,
   "metadata": {},
   "outputs": [],
   "source": [
    "import numpy as np\n",
    "import pandas as pd"
   ]
  },
  {
   "cell_type": "code",
   "execution_count": 3,
   "metadata": {},
   "outputs": [],
   "source": [
    "from sklearn.model_selection import train_test_split\n",
    "from sklearn.svm import LinearSVC\n",
    "from sklearn.metrics import accuracy_score, classification_report, confusion_matrix\n",
    "\n",
    "from sklearn.feature_extraction.text import TfidfVectorizer"
   ]
  },
  {
   "cell_type": "code",
   "execution_count": 4,
   "metadata": {},
   "outputs": [
    {
     "data": {
      "text/html": [
       "<div>\n",
       "<style scoped>\n",
       "    .dataframe tbody tr th:only-of-type {\n",
       "        vertical-align: middle;\n",
       "    }\n",
       "\n",
       "    .dataframe tbody tr th {\n",
       "        vertical-align: top;\n",
       "    }\n",
       "\n",
       "    .dataframe thead th {\n",
       "        text-align: right;\n",
       "    }\n",
       "</style>\n",
       "<table border=\"1\" class=\"dataframe\">\n",
       "  <thead>\n",
       "    <tr style=\"text-align: right;\">\n",
       "      <th></th>\n",
       "      <th>twitts</th>\n",
       "      <th>sentiment</th>\n",
       "    </tr>\n",
       "  </thead>\n",
       "  <tbody>\n",
       "    <tr>\n",
       "      <th>0</th>\n",
       "      <td>@robbiebronniman Sounds like a great night.</td>\n",
       "      <td>1</td>\n",
       "    </tr>\n",
       "    <tr>\n",
       "      <th>1</th>\n",
       "      <td>Damn the person who stolde my wallet !!!!!  Ma...</td>\n",
       "      <td>1</td>\n",
       "    </tr>\n",
       "    <tr>\n",
       "      <th>2</th>\n",
       "      <td>Greetings from the piano bench  (photo) http:/...</td>\n",
       "      <td>1</td>\n",
       "    </tr>\n",
       "    <tr>\n",
       "      <th>3</th>\n",
       "      <td>@drewryanscott i love it!! i love you!! haha f...</td>\n",
       "      <td>1</td>\n",
       "    </tr>\n",
       "    <tr>\n",
       "      <th>4</th>\n",
       "      <td>@kissthestars Pretty pretty pretty please, pak...</td>\n",
       "      <td>0</td>\n",
       "    </tr>\n",
       "    <tr>\n",
       "      <th>...</th>\n",
       "      <td>...</td>\n",
       "      <td>...</td>\n",
       "    </tr>\n",
       "    <tr>\n",
       "      <th>29995</th>\n",
       "      <td>@Calumfan1 is it in any way related to photosh...</td>\n",
       "      <td>0</td>\n",
       "    </tr>\n",
       "    <tr>\n",
       "      <th>29996</th>\n",
       "      <td>@Swiz_NZ really? wow thats crap</td>\n",
       "      <td>0</td>\n",
       "    </tr>\n",
       "    <tr>\n",
       "      <th>29997</th>\n",
       "      <td>At the 2010 lexus HS250h press event.  Again, ...</td>\n",
       "      <td>0</td>\n",
       "    </tr>\n",
       "    <tr>\n",
       "      <th>29998</th>\n",
       "      <td>@karmicunderpath ooooh now there's a nice thou...</td>\n",
       "      <td>1</td>\n",
       "    </tr>\n",
       "    <tr>\n",
       "      <th>29999</th>\n",
       "      <td>@mariap91 i'd usually ask you about the sun an...</td>\n",
       "      <td>1</td>\n",
       "    </tr>\n",
       "  </tbody>\n",
       "</table>\n",
       "<p>30000 rows × 2 columns</p>\n",
       "</div>"
      ],
      "text/plain": [
       "                                                  twitts  sentiment\n",
       "0           @robbiebronniman Sounds like a great night.           1\n",
       "1      Damn the person who stolde my wallet !!!!!  Ma...          1\n",
       "2      Greetings from the piano bench  (photo) http:/...          1\n",
       "3      @drewryanscott i love it!! i love you!! haha f...          1\n",
       "4      @kissthestars Pretty pretty pretty please, pak...          0\n",
       "...                                                  ...        ...\n",
       "29995  @Calumfan1 is it in any way related to photosh...          0\n",
       "29996                   @Swiz_NZ really? wow thats crap           0\n",
       "29997  At the 2010 lexus HS250h press event.  Again, ...          0\n",
       "29998  @karmicunderpath ooooh now there's a nice thou...          1\n",
       "29999  @mariap91 i'd usually ask you about the sun an...          1\n",
       "\n",
       "[30000 rows x 2 columns]"
      ]
     },
     "execution_count": 4,
     "metadata": {},
     "output_type": "execute_result"
    }
   ],
   "source": [
    "df = pd.read_csv('https://raw.githubusercontent.com/laxmimerit/twitter-data/master/twitt30k.csv')\n",
    "df"
   ]
  },
  {
   "cell_type": "code",
   "execution_count": 5,
   "metadata": {},
   "outputs": [
    {
     "data": {
      "text/plain": [
       "1    15000\n",
       "0    15000\n",
       "Name: sentiment, dtype: int64"
      ]
     },
     "execution_count": 5,
     "metadata": {},
     "output_type": "execute_result"
    }
   ],
   "source": [
    "df['sentiment'].value_counts()"
   ]
  },
  {
   "cell_type": "markdown",
   "metadata": {},
   "source": [
    "## SVM Model and Data Preparation "
   ]
  },
  {
   "cell_type": "code",
   "execution_count": 6,
   "metadata": {},
   "outputs": [],
   "source": [
    "def run_svm(df):\n",
    "    X = df['twitts']\n",
    "    y = df['sentiment']\n",
    "\n",
    "    tfidf = TfidfVectorizer()\n",
    "    X = tfidf.fit_transform(X)\n",
    "\n",
    "    X_train, X_test, y_train, y_test = train_test_split(X, y, test_size = 0.2, random_state = 0, stratify = y)\n",
    "\n",
    "    print('shape of X: ', X.shape)\n",
    "\n",
    "    clf = LinearSVC()\n",
    "    clf.fit(X_train, y_train)\n",
    "\n",
    "    y_pred = clf.predict(X_test)\n",
    "\n",
    "    print()\n",
    "    print('Printing Report')\n",
    "    print(classification_report(y_test, y_pred))\n",
    "    \n",
    "    return tfidf, clf"
   ]
  },
  {
   "cell_type": "code",
   "execution_count": 7,
   "metadata": {},
   "outputs": [
    {
     "name": "stdout",
     "output_type": "stream",
     "text": [
      "shape of X:  (30000, 40854)\n",
      "\n",
      "Printing Report\n",
      "              precision    recall  f1-score   support\n",
      "\n",
      "           0       0.75      0.74      0.75      3000\n",
      "           1       0.74      0.75      0.75      3000\n",
      "\n",
      "    accuracy                           0.75      6000\n",
      "   macro avg       0.75      0.75      0.75      6000\n",
      "weighted avg       0.75      0.75      0.75      6000\n",
      "\n",
      "Wall time: 1.53 s\n"
     ]
    }
   ],
   "source": [
    "%%time\n",
    "tfidf, clf = run_svm(df)"
   ]
  },
  {
   "cell_type": "code",
   "execution_count": 8,
   "metadata": {},
   "outputs": [],
   "source": [
    "x = ['i am really happy. thanks a lot for coming with me']"
   ]
  },
  {
   "cell_type": "code",
   "execution_count": 9,
   "metadata": {},
   "outputs": [
    {
     "data": {
      "text/plain": [
       "array([1], dtype=int64)"
      ]
     },
     "execution_count": 9,
     "metadata": {},
     "output_type": "execute_result"
    }
   ],
   "source": [
    "clf.predict(tfidf.transform(x))"
   ]
  },
  {
   "cell_type": "code",
   "execution_count": null,
   "metadata": {},
   "outputs": [],
   "source": []
  },
  {
   "cell_type": "markdown",
   "metadata": {},
   "source": [
    "## Data Cleaning and Retraining SVM "
   ]
  },
  {
   "cell_type": "code",
   "execution_count": 10,
   "metadata": {},
   "outputs": [],
   "source": [
    "# Use our preprocess python package"
   ]
  },
  {
   "cell_type": "code",
   "execution_count": 11,
   "metadata": {},
   "outputs": [],
   "source": [
    "import preprocess_kgptalkie as pp"
   ]
  },
  {
   "cell_type": "code",
   "execution_count": 12,
   "metadata": {},
   "outputs": [
    {
     "data": {
      "text/plain": [
       "'0.0.3'"
      ]
     },
     "execution_count": 12,
     "metadata": {},
     "output_type": "execute_result"
    }
   ],
   "source": [
    "pp.__version__"
   ]
  },
  {
   "cell_type": "code",
   "execution_count": 13,
   "metadata": {},
   "outputs": [],
   "source": [
    "df['twitts'] = df['twitts'].apply(lambda x: x.lower())"
   ]
  },
  {
   "cell_type": "code",
   "execution_count": 14,
   "metadata": {},
   "outputs": [],
   "source": [
    "df['twitts'] = df['twitts'].apply(lambda x: pp.cont_exp(x))"
   ]
  },
  {
   "cell_type": "code",
   "execution_count": 15,
   "metadata": {},
   "outputs": [
    {
     "data": {
      "text/html": [
       "<div>\n",
       "<style scoped>\n",
       "    .dataframe tbody tr th:only-of-type {\n",
       "        vertical-align: middle;\n",
       "    }\n",
       "\n",
       "    .dataframe tbody tr th {\n",
       "        vertical-align: top;\n",
       "    }\n",
       "\n",
       "    .dataframe thead th {\n",
       "        text-align: right;\n",
       "    }\n",
       "</style>\n",
       "<table border=\"1\" class=\"dataframe\">\n",
       "  <thead>\n",
       "    <tr style=\"text-align: right;\">\n",
       "      <th></th>\n",
       "      <th>twitts</th>\n",
       "      <th>sentiment</th>\n",
       "    </tr>\n",
       "  </thead>\n",
       "  <tbody>\n",
       "    <tr>\n",
       "      <th>0</th>\n",
       "      <td>@robbiebronniman sounds like a great night.</td>\n",
       "      <td>1</td>\n",
       "    </tr>\n",
       "    <tr>\n",
       "      <th>1</th>\n",
       "      <td>damn the person who stolde my wallet !!!!!  ma...</td>\n",
       "      <td>1</td>\n",
       "    </tr>\n",
       "    <tr>\n",
       "      <th>2</th>\n",
       "      <td>greetings from the piano bench  (photo) http:/...</td>\n",
       "      <td>1</td>\n",
       "    </tr>\n",
       "    <tr>\n",
       "      <th>3</th>\n",
       "      <td>@drewryanscott i love it!! i love you!! haha f...</td>\n",
       "      <td>1</td>\n",
       "    </tr>\n",
       "    <tr>\n",
       "      <th>4</th>\n",
       "      <td>@kissthestars pretty pretty pretty please, pak...</td>\n",
       "      <td>0</td>\n",
       "    </tr>\n",
       "    <tr>\n",
       "      <th>...</th>\n",
       "      <td>...</td>\n",
       "      <td>...</td>\n",
       "    </tr>\n",
       "    <tr>\n",
       "      <th>29995</th>\n",
       "      <td>@calumfan1 is it in any way related to photosh...</td>\n",
       "      <td>0</td>\n",
       "    </tr>\n",
       "    <tr>\n",
       "      <th>29996</th>\n",
       "      <td>@swiz_nz really? wow thats crap</td>\n",
       "      <td>0</td>\n",
       "    </tr>\n",
       "    <tr>\n",
       "      <th>29997</th>\n",
       "      <td>at the 2010 lexus hs250h press event.  again, ...</td>\n",
       "      <td>0</td>\n",
       "    </tr>\n",
       "    <tr>\n",
       "      <th>29998</th>\n",
       "      <td>@karmicunderpath ooooh now there is a nice tho...</td>\n",
       "      <td>1</td>\n",
       "    </tr>\n",
       "    <tr>\n",
       "      <th>29999</th>\n",
       "      <td>@mariap91 i would usually ask you about the su...</td>\n",
       "      <td>1</td>\n",
       "    </tr>\n",
       "  </tbody>\n",
       "</table>\n",
       "<p>30000 rows × 2 columns</p>\n",
       "</div>"
      ],
      "text/plain": [
       "                                                  twitts  sentiment\n",
       "0           @robbiebronniman sounds like a great night.           1\n",
       "1      damn the person who stolde my wallet !!!!!  ma...          1\n",
       "2      greetings from the piano bench  (photo) http:/...          1\n",
       "3      @drewryanscott i love it!! i love you!! haha f...          1\n",
       "4      @kissthestars pretty pretty pretty please, pak...          0\n",
       "...                                                  ...        ...\n",
       "29995  @calumfan1 is it in any way related to photosh...          0\n",
       "29996                   @swiz_nz really? wow thats crap           0\n",
       "29997  at the 2010 lexus hs250h press event.  again, ...          0\n",
       "29998  @karmicunderpath ooooh now there is a nice tho...          1\n",
       "29999  @mariap91 i would usually ask you about the su...          1\n",
       "\n",
       "[30000 rows x 2 columns]"
      ]
     },
     "execution_count": 15,
     "metadata": {},
     "output_type": "execute_result"
    }
   ],
   "source": [
    "df"
   ]
  },
  {
   "cell_type": "code",
   "execution_count": 16,
   "metadata": {},
   "outputs": [
    {
     "name": "stdout",
     "output_type": "stream",
     "text": [
      "shape of X:  (30000, 40846)\n",
      "\n",
      "Printing Report\n",
      "              precision    recall  f1-score   support\n",
      "\n",
      "           0       0.75      0.74      0.75      3000\n",
      "           1       0.75      0.76      0.75      3000\n",
      "\n",
      "    accuracy                           0.75      6000\n",
      "   macro avg       0.75      0.75      0.75      6000\n",
      "weighted avg       0.75      0.75      0.75      6000\n",
      "\n"
     ]
    },
    {
     "data": {
      "text/plain": [
       "(TfidfVectorizer(analyzer='word', binary=False, decode_error='strict',\n",
       "                 dtype=<class 'numpy.float64'>, encoding='utf-8',\n",
       "                 input='content', lowercase=True, max_df=1.0, max_features=None,\n",
       "                 min_df=1, ngram_range=(1, 1), norm='l2', preprocessor=None,\n",
       "                 smooth_idf=True, stop_words=None, strip_accents=None,\n",
       "                 sublinear_tf=False, token_pattern='(?u)\\\\b\\\\w\\\\w+\\\\b',\n",
       "                 tokenizer=None, use_idf=True, vocabulary=None),\n",
       " LinearSVC(C=1.0, class_weight=None, dual=True, fit_intercept=True,\n",
       "           intercept_scaling=1, loss='squared_hinge', max_iter=1000,\n",
       "           multi_class='ovr', penalty='l2', random_state=None, tol=0.0001,\n",
       "           verbose=0))"
      ]
     },
     "execution_count": 16,
     "metadata": {},
     "output_type": "execute_result"
    }
   ],
   "source": [
    "run_svm(df)"
   ]
  },
  {
   "cell_type": "code",
   "execution_count": 17,
   "metadata": {},
   "outputs": [],
   "source": [
    "# remove emails and urls\n",
    "\n",
    "df['twitts'] = df['twitts'].apply(lambda x: pp.remove_emails(x))\n",
    "df['twitts'] = df['twitts'].apply(lambda x: pp.remove_urls(x))\n",
    "df['twitts'] = df['twitts'].apply(lambda x: pp.remove_rt(x))\n",
    "df['twitts'] = df['twitts'].apply(lambda x: pp.remove_html_tags(x))\n",
    "df['twitts'] = df['twitts'].apply(lambda x: pp.remove_special_chars(x))\n"
   ]
  },
  {
   "cell_type": "code",
   "execution_count": 18,
   "metadata": {},
   "outputs": [
    {
     "name": "stdout",
     "output_type": "stream",
     "text": [
      "shape of X:  (30000, 42931)\n",
      "\n",
      "Printing Report\n",
      "              precision    recall  f1-score   support\n",
      "\n",
      "           0       0.75      0.74      0.74      3000\n",
      "           1       0.74      0.75      0.75      3000\n",
      "\n",
      "    accuracy                           0.75      6000\n",
      "   macro avg       0.75      0.75      0.75      6000\n",
      "weighted avg       0.75      0.75      0.75      6000\n",
      "\n"
     ]
    }
   ],
   "source": [
    "tfidf, clf = run_svm(df)"
   ]
  },
  {
   "cell_type": "code",
   "execution_count": 19,
   "metadata": {},
   "outputs": [
    {
     "data": {
      "text/plain": [
       "['i am really happy. thanks a lot for coming with me']"
      ]
     },
     "execution_count": 19,
     "metadata": {},
     "output_type": "execute_result"
    }
   ],
   "source": [
    "x"
   ]
  },
  {
   "cell_type": "code",
   "execution_count": 20,
   "metadata": {},
   "outputs": [
    {
     "data": {
      "text/plain": [
       "array([1], dtype=int64)"
      ]
     },
     "execution_count": 20,
     "metadata": {},
     "output_type": "execute_result"
    }
   ],
   "source": [
    "clf.predict(tfidf.transform(x))"
   ]
  },
  {
   "cell_type": "code",
   "execution_count": null,
   "metadata": {},
   "outputs": [],
   "source": []
  },
  {
   "cell_type": "markdown",
   "metadata": {},
   "source": [
    "## Fine Tuning Model"
   ]
  },
  {
   "cell_type": "code",
   "execution_count": null,
   "metadata": {},
   "outputs": [],
   "source": []
  },
  {
   "cell_type": "code",
   "execution_count": 21,
   "metadata": {},
   "outputs": [
    {
     "data": {
      "text/html": [
       "<div>\n",
       "<style scoped>\n",
       "    .dataframe tbody tr th:only-of-type {\n",
       "        vertical-align: middle;\n",
       "    }\n",
       "\n",
       "    .dataframe tbody tr th {\n",
       "        vertical-align: top;\n",
       "    }\n",
       "\n",
       "    .dataframe thead th {\n",
       "        text-align: right;\n",
       "    }\n",
       "</style>\n",
       "<table border=\"1\" class=\"dataframe\">\n",
       "  <thead>\n",
       "    <tr style=\"text-align: right;\">\n",
       "      <th></th>\n",
       "      <th>twitts</th>\n",
       "      <th>sentiment</th>\n",
       "    </tr>\n",
       "  </thead>\n",
       "  <tbody>\n",
       "    <tr>\n",
       "      <th>0</th>\n",
       "      <td>robbiebronniman sounds like a great night</td>\n",
       "      <td>1</td>\n",
       "    </tr>\n",
       "    <tr>\n",
       "      <th>1</th>\n",
       "      <td>damn the person who stolde my wallet may karma...</td>\n",
       "      <td>1</td>\n",
       "    </tr>\n",
       "    <tr>\n",
       "      <th>2</th>\n",
       "      <td>greetings from the piano bench photo</td>\n",
       "      <td>1</td>\n",
       "    </tr>\n",
       "    <tr>\n",
       "      <th>3</th>\n",
       "      <td>drewryanscott i love it i love you haha forget...</td>\n",
       "      <td>1</td>\n",
       "    </tr>\n",
       "    <tr>\n",
       "      <th>4</th>\n",
       "      <td>kissthestars pretty pretty pretty please pakid...</td>\n",
       "      <td>0</td>\n",
       "    </tr>\n",
       "    <tr>\n",
       "      <th>...</th>\n",
       "      <td>...</td>\n",
       "      <td>...</td>\n",
       "    </tr>\n",
       "    <tr>\n",
       "      <th>29995</th>\n",
       "      <td>calumfan1 is it in any way related to photoshop</td>\n",
       "      <td>0</td>\n",
       "    </tr>\n",
       "    <tr>\n",
       "      <th>29996</th>\n",
       "      <td>swiz_nz really wow thats crap</td>\n",
       "      <td>0</td>\n",
       "    </tr>\n",
       "    <tr>\n",
       "      <th>29997</th>\n",
       "      <td>at the 2010 lexus hs250h press event again can...</td>\n",
       "      <td>0</td>\n",
       "    </tr>\n",
       "    <tr>\n",
       "      <th>29998</th>\n",
       "      <td>karmicunderpath ooooh now there is a nice thought</td>\n",
       "      <td>1</td>\n",
       "    </tr>\n",
       "    <tr>\n",
       "      <th>29999</th>\n",
       "      <td>mariap91 i would usually ask you about the sun...</td>\n",
       "      <td>1</td>\n",
       "    </tr>\n",
       "  </tbody>\n",
       "</table>\n",
       "<p>30000 rows × 2 columns</p>\n",
       "</div>"
      ],
      "text/plain": [
       "                                                  twitts  sentiment\n",
       "0              robbiebronniman sounds like a great night          1\n",
       "1      damn the person who stolde my wallet may karma...          1\n",
       "2                   greetings from the piano bench photo          1\n",
       "3      drewryanscott i love it i love you haha forget...          1\n",
       "4      kissthestars pretty pretty pretty please pakid...          0\n",
       "...                                                  ...        ...\n",
       "29995    calumfan1 is it in any way related to photoshop          0\n",
       "29996                      swiz_nz really wow thats crap          0\n",
       "29997  at the 2010 lexus hs250h press event again can...          0\n",
       "29998  karmicunderpath ooooh now there is a nice thought          1\n",
       "29999  mariap91 i would usually ask you about the sun...          1\n",
       "\n",
       "[30000 rows x 2 columns]"
      ]
     },
     "execution_count": 21,
     "metadata": {},
     "output_type": "execute_result"
    }
   ],
   "source": [
    "df"
   ]
  },
  {
   "cell_type": "code",
   "execution_count": 22,
   "metadata": {},
   "outputs": [
    {
     "name": "stdout",
     "output_type": "stream",
     "text": [
      "shape of X:  (30000, 5000)\n",
      "\n",
      "Printing Report\n",
      "              precision    recall  f1-score   support\n",
      "\n",
      "           0       0.75      0.77      0.76      3000\n",
      "           1       0.77      0.75      0.76      3000\n",
      "\n",
      "    accuracy                           0.76      6000\n",
      "   macro avg       0.76      0.76      0.76      6000\n",
      "weighted avg       0.76      0.76      0.76      6000\n",
      "\n"
     ]
    },
    {
     "data": {
      "text/plain": [
       "(TfidfVectorizer(analyzer='word', binary=False, decode_error='strict',\n",
       "                 dtype=<class 'numpy.float64'>, encoding='utf-8',\n",
       "                 input='content', lowercase=True, max_df=1.0, max_features=5000,\n",
       "                 min_df=1, ngram_range=(1, 2), norm='l1', preprocessor=None,\n",
       "                 smooth_idf=True, stop_words=None, strip_accents=None,\n",
       "                 sublinear_tf=False, token_pattern='(?u)\\\\b\\\\w\\\\w+\\\\b',\n",
       "                 tokenizer=None, use_idf=True, vocabulary=None),\n",
       " LinearSVC(C=1.0, class_weight=None, dual=True, fit_intercept=True,\n",
       "           intercept_scaling=1, loss='squared_hinge', max_iter=1000,\n",
       "           multi_class='ovr', penalty='l2', random_state=None, tol=0.0001,\n",
       "           verbose=0))"
      ]
     },
     "execution_count": 22,
     "metadata": {},
     "output_type": "execute_result"
    }
   ],
   "source": [
    "def run_svm(df):\n",
    "    X = df['twitts']\n",
    "    y = df['sentiment']\n",
    "\n",
    "    tfidf = TfidfVectorizer(norm = 'l1', ngram_range=(1,2), analyzer='word', max_features=5000)\n",
    "    X = tfidf.fit_transform(X)\n",
    "\n",
    "    X_train, X_test, y_train, y_test = train_test_split(X, y, test_size = 0.2, random_state = 0, stratify = y)\n",
    "\n",
    "    print('shape of X: ', X.shape)\n",
    "\n",
    "    clf = LinearSVC()\n",
    "    clf.fit(X_train, y_train)\n",
    "\n",
    "    y_pred = clf.predict(X_test)\n",
    "\n",
    "    print()\n",
    "    print('Printing Report')\n",
    "    print(classification_report(y_test, y_pred))\n",
    "    \n",
    "    return tfidf, clf\n",
    "\n",
    "run_svm(df)"
   ]
  },
  {
   "cell_type": "markdown",
   "metadata": {},
   "source": [
    "## Saving and Loading ML Model "
   ]
  },
  {
   "cell_type": "code",
   "execution_count": 23,
   "metadata": {},
   "outputs": [],
   "source": [
    "import pickle"
   ]
  },
  {
   "cell_type": "code",
   "execution_count": 24,
   "metadata": {},
   "outputs": [],
   "source": [
    "pickle.dump(clf, open('clf.pkl', 'wb'))\n",
    "pickle.dump(tfidf, open('tfidf.pkl', 'wb'))"
   ]
  },
  {
   "cell_type": "code",
   "execution_count": null,
   "metadata": {},
   "outputs": [],
   "source": []
  },
  {
   "cell_type": "code",
   "execution_count": 25,
   "metadata": {},
   "outputs": [],
   "source": [
    "del clf\n",
    "del tfidf"
   ]
  },
  {
   "cell_type": "code",
   "execution_count": 26,
   "metadata": {},
   "outputs": [],
   "source": [
    "clf = pickle.load(open('clf.pkl', 'rb'))\n",
    "tfidf = pickle.load(open('tfidf.pkl', 'rb'))"
   ]
  },
  {
   "cell_type": "code",
   "execution_count": null,
   "metadata": {},
   "outputs": [],
   "source": []
  },
  {
   "cell_type": "code",
   "execution_count": 27,
   "metadata": {},
   "outputs": [
    {
     "data": {
      "text/plain": [
       "LinearSVC(C=1.0, class_weight=None, dual=True, fit_intercept=True,\n",
       "          intercept_scaling=1, loss='squared_hinge', max_iter=1000,\n",
       "          multi_class='ovr', penalty='l2', random_state=None, tol=0.0001,\n",
       "          verbose=0)"
      ]
     },
     "execution_count": 27,
     "metadata": {},
     "output_type": "execute_result"
    }
   ],
   "source": [
    "clf"
   ]
  },
  {
   "cell_type": "code",
   "execution_count": 28,
   "metadata": {},
   "outputs": [],
   "source": [
    "# tfidf.vocabulary_"
   ]
  },
  {
   "cell_type": "code",
   "execution_count": 29,
   "metadata": {},
   "outputs": [
    {
     "data": {
      "text/plain": [
       "['i am really happy. thanks a lot for coming with me']"
      ]
     },
     "execution_count": 29,
     "metadata": {},
     "output_type": "execute_result"
    }
   ],
   "source": [
    "x"
   ]
  },
  {
   "cell_type": "code",
   "execution_count": 30,
   "metadata": {},
   "outputs": [
    {
     "data": {
      "text/plain": [
       "array([1], dtype=int64)"
      ]
     },
     "execution_count": 30,
     "metadata": {},
     "output_type": "execute_result"
    }
   ],
   "source": [
    "\n",
    "clf.predict(tfidf.transform(x))"
   ]
  },
  {
   "cell_type": "code",
   "execution_count": null,
   "metadata": {},
   "outputs": [],
   "source": []
  },
  {
   "cell_type": "markdown",
   "metadata": {},
   "source": [
    "# Real-Time Twitter Sentiment Analysis "
   ]
  },
  {
   "cell_type": "code",
   "execution_count": 17,
   "metadata": {},
   "outputs": [],
   "source": [
    "consumer_key = 'R7DGimRNkT11sbngA0MRqLmNE'\n",
    "consumer_secret = 'w5Axtw43feejwgmPIhqPhPOt1aHso1Guw1yuFwlmijtlh0vguK'\n",
    "access_token = '1279486577656295425-l3gaKqKuHQdKl44rPXUc0WYcc26wgq'\n",
    "access_token_secret = '80dGAdcx6LuoWM1mSt669V5NESP0EOuX1dK8Mianjqxi2'"
   ]
  },
  {
   "cell_type": "code",
   "execution_count": 18,
   "metadata": {},
   "outputs": [],
   "source": [
    "# !pip install tweepy"
   ]
  },
  {
   "cell_type": "code",
   "execution_count": 19,
   "metadata": {},
   "outputs": [],
   "source": [
    "import tweepy\n",
    "\n",
    "auth = tweepy.OAuthHandler(consumer_key, consumer_secret)\n",
    "auth.set_access_token(access_token, access_token_secret)\n",
    "\n",
    "api = tweepy.API(auth)\n",
    "\n",
    "public_tweets = api.home_timeline()\n"
   ]
  },
  {
   "cell_type": "code",
   "execution_count": 37,
   "metadata": {},
   "outputs": [
    {
     "data": {
      "text/plain": [
       "tweepy.models.ResultSet"
      ]
     },
     "execution_count": 37,
     "metadata": {},
     "output_type": "execute_result"
    }
   ],
   "source": [
    "type(public_tweets)"
   ]
  },
  {
   "cell_type": "code",
   "execution_count": 44,
   "metadata": {},
   "outputs": [
    {
     "data": {
      "text/plain": [
       "'RT @LittleFrenchKev: AI air hockey battle ! no training with hardware fully sim to real .\\n\\n#mecatronic #mecatronics #robotic #robotics #rob…'"
      ]
     },
     "execution_count": 44,
     "metadata": {},
     "output_type": "execute_result"
    }
   ],
   "source": [
    "public_tweets[0].text"
   ]
  },
  {
   "cell_type": "code",
   "execution_count": 45,
   "metadata": {},
   "outputs": [
    {
     "name": "stdout",
     "output_type": "stream",
     "text": [
      "RT @LittleFrenchKev: AI air hockey battle ! no training with hardware fully sim to real .\n",
      "\n",
      "#mecatronic #mecatronics #robotic #robotics #rob…\n",
      "RT @zeldia123: 8 Advanced python tricks💎\n",
      "See if there is anything new for you to learn ?\n",
      "#100DaysOfMLCode #100DaysOfCode #DataScience #Pyth…\n",
      "RT @quaicoor: Please what specific topics in Multivariable calculus and Linear Algebra are needed for machine learning? I need help.\n",
      "#100Da…\n",
      "How to Transform Target Variables for Regression in Python https://t.co/Op9uHbFie5\n",
      "RT @pierrepinna: Rejoignez-moi ce mercredi 8 juillet en direct pour discuter d'Intelligence Artificielle dans le #Ecommerce &amp; Retail.\n",
      "#1to1…\n",
      "RT @facebookai: We’re sharing the first analysis of photo sharing's impact on heritage tourism. We used #computervision to extract insights…\n",
      "RT @gold_ochim: Day [18/100]\n",
      "Still on DSN AI+ classes...\n",
      "Modeling has begun.... Linear Regression.\n",
      "#100DaysOfCode #CodeNewbie #Python #Mach…\n",
      "RT @charlyrere: Enterprise Big Data Professional Certification Course\n",
      "\n",
      "https://t.co/ZWCDmLzWbK\n",
      "\n",
      "#bigdata #machinelearning #datascience #ana…\n",
      "RT @rzembo: 3 Building Blocks of Machine Learning you Should Know as a Data Scientist\n",
      "\n",
      "#DataScience #MachineLearning by Pranav Dar via @Ana…\n",
      "RT @jamesvgingerich: Cobot or collaborative robot is the merging of man and machine.  (Cheddar) #Robotics https://t.co/Gd95c6Q9es\n",
      "RT @IainLJBrown: Artificial intelligence levels show AI is not created equal. Do you know what the vendor is selling? - Spend Matters\n",
      "\n",
      "Read…\n",
      "RT @couponed_code: https://t.co/wbQ3DKNKdb\n",
      "\n",
      " Deep Learning with Apache Spark - MasterClass! \n",
      "\n",
      "#DeepLearning #Analytics #DataScience #AI #Ma…\n",
      "Appointments of district presidents and new office bearers in the state team will also begin shortly.\n",
      "\n",
      "https://t.co/JCfhlMPcgF\n",
      "I don’t resent the illegal fireworks as much as I do the sense that I’m not allowed to resent the illegal fireworks\n",
      "RT @PhilipPullman: I'm not sure anyone in government realises how important this is.\n",
      "RT @RichDadSummit: #Richdad Virtual Summit. Register: https://t.co/Gkmu5WISel 💵\n",
      "\n",
      "#BigData #Analytics #DataScience #AI #MachineLearning #IoT…\n",
      "RT @GuidoKerkhof: Machine Learning Algorithms that Learn from Experience [Infographic] \n",
      "@KirkDBorne @ipfconline1 @minervas_muse @antgrasso…\n",
      "RT @freecodecoupon: React js. From the beginning. w/ Redux and React Router #Udemy\n",
      "Preview This Course GET COUPON CODE https://t.co/pnLNsBz…\n",
      "RT @GuidoKerkhof: As crude oil and electricity became the fundamental resources of the modern industry, on the other hand, data is a crucia…\n",
      "RT @IssquaredInc: Using high-performance storage for machine learning workloads on Kubernetes\n",
      "https://t.co/2UA45ds3dL \n",
      "\n",
      "#storage #machinele…\n"
     ]
    }
   ],
   "source": [
    "for tweet in public_tweets:\n",
    "    print(tweet.text)"
   ]
  },
  {
   "cell_type": "code",
   "execution_count": null,
   "metadata": {},
   "outputs": [],
   "source": []
  },
  {
   "cell_type": "code",
   "execution_count": null,
   "metadata": {},
   "outputs": [],
   "source": []
  },
  {
   "cell_type": "code",
   "execution_count": null,
   "metadata": {},
   "outputs": [],
   "source": []
  },
  {
   "cell_type": "markdown",
   "metadata": {},
   "source": [
    "## Tracking Keywords on Twitter "
   ]
  },
  {
   "cell_type": "code",
   "execution_count": 14,
   "metadata": {},
   "outputs": [],
   "source": [
    "import json\n",
    "import pickle\n",
    "import tweepy"
   ]
  },
  {
   "cell_type": "code",
   "execution_count": 5,
   "metadata": {},
   "outputs": [],
   "source": [
    "from textblob import TextBlob"
   ]
  },
  {
   "cell_type": "code",
   "execution_count": 6,
   "metadata": {},
   "outputs": [],
   "source": [
    "import preprocess_kgptalkie as pp"
   ]
  },
  {
   "cell_type": "code",
   "execution_count": 7,
   "metadata": {},
   "outputs": [],
   "source": [
    "clf = pickle.load(open('clf.pkl', 'rb'))\n",
    "tfidf = pickle.load(open('tfidf.pkl', 'rb'))"
   ]
  },
  {
   "cell_type": "code",
   "execution_count": 8,
   "metadata": {},
   "outputs": [],
   "source": [
    "def predict_sentiment(x):\n",
    "    x = [x]\n",
    "    sent = clf.predict(tfidf.transform(x))\n",
    "    return sent"
   ]
  },
  {
   "cell_type": "code",
   "execution_count": 12,
   "metadata": {},
   "outputs": [
    {
     "data": {
      "text/plain": [
       "0"
      ]
     },
     "execution_count": 12,
     "metadata": {},
     "output_type": "execute_result"
    }
   ],
   "source": [
    "predict_sentiment('what i am not the best')[0]"
   ]
  },
  {
   "cell_type": "code",
   "execution_count": 22,
   "metadata": {},
   "outputs": [],
   "source": [
    "track_keyword = ['usa', 'china']"
   ]
  },
  {
   "cell_type": "code",
   "execution_count": 24,
   "metadata": {},
   "outputs": [],
   "source": [
    "usa = 0\n",
    "china = 0\n",
    "\n",
    "class MyStreamListener(tweepy.StreamListener):\n",
    "    \n",
    "    def on_status(self, status):\n",
    "        print(status.text)\n",
    "    \n",
    "    def on_data(self, data):\n",
    "        raw_twitts = json.loads(data)\n",
    "        try:\n",
    "            x = str(raw_twitts['text']).lower()\n",
    "            x = pp.cont_exp(x)\n",
    "            x = pp.remove_emails(x)\n",
    "            x = pp.remove_html_tags(x)\n",
    "            x = pp.remove_rt(x)\n",
    "            x = pp.remove_special_chars(x)\n",
    "            x = pp.remove_urls(x)\n",
    "            \n",
    "#             blob = TextBlob(x)\n",
    "#             sentiment = predict_sentiment(x)[0]\n",
    "#             print(sentiment)\n",
    "            \n",
    "            global china\n",
    "            global usa\n",
    "            \n",
    "            if 'usa' in x and 'china' not in x:\n",
    "                sent = predict_sentiment(x)[0]\n",
    "                usa = usa + sent\n",
    "                \n",
    "            elif 'china' in x and 'usa' not in x:\n",
    "                sent = predict_sentiment(x)[0]\n",
    "                china = china + sent\n",
    "                \n",
    "            else:\n",
    "                pass\n",
    "            \n",
    "            print('usa: ', usa, 'china: ', china)\n",
    "            \n",
    "            \n",
    "        except:\n",
    "            pass\n",
    "        \n",
    "        \n",
    "        \n",
    "    def on_error(self, status_code):\n",
    "        if status_code == 420:\n",
    "            print('Error 420')\n",
    "            #returning False in on_error disconnects the stream\n",
    "            return False"
   ]
  },
  {
   "cell_type": "code",
   "execution_count": null,
   "metadata": {},
   "outputs": [],
   "source": []
  },
  {
   "cell_type": "code",
   "execution_count": 25,
   "metadata": {},
   "outputs": [],
   "source": [
    "myStreamListener = MyStreamListener()\n",
    "myStream = tweepy.Stream(auth = api.auth, listener=myStreamListener)"
   ]
  },
  {
   "cell_type": "code",
   "execution_count": null,
   "metadata": {},
   "outputs": [
    {
     "name": "stdout",
     "output_type": "stream",
     "text": [
      "usa:  0 china:  0\n",
      "usa:  1 china:  0\n",
      "usa:  2 china:  0\n",
      "usa:  2 china:  0\n",
      "usa:  2 china:  0\n",
      "usa:  2 china:  0\n",
      "usa:  2 china:  0\n",
      "usa:  2 china:  0\n",
      "usa:  2 china:  0\n",
      "usa:  2 china:  1\n",
      "usa:  2 china:  2\n",
      "usa:  2 china:  2\n",
      "usa:  3 china:  2\n",
      "usa:  3 china:  2\n",
      "usa:  3 china:  2\n",
      "usa:  4 china:  2\n",
      "usa:  5 china:  2\n",
      "usa:  5 china:  2\n",
      "usa:  5 china:  2\n",
      "usa:  5 china:  2\n",
      "usa:  5 china:  3\n",
      "usa:  5 china:  3\n",
      "usa:  6 china:  3\n",
      "usa:  6 china:  3\n",
      "usa:  6 china:  3\n",
      "usa:  6 china:  3\n",
      "usa:  6 china:  4\n",
      "usa:  7 china:  4\n",
      "usa:  7 china:  4\n",
      "usa:  7 china:  4\n",
      "usa:  7 china:  4\n",
      "usa:  7 china:  4\n",
      "usa:  7 china:  4\n",
      "usa:  7 china:  4\n",
      "usa:  7 china:  4\n",
      "usa:  7 china:  4\n",
      "usa:  7 china:  4\n",
      "usa:  7 china:  4\n",
      "usa:  7 china:  4\n",
      "usa:  7 china:  5\n",
      "usa:  8 china:  5\n",
      "usa:  8 china:  5\n",
      "usa:  8 china:  5\n",
      "usa:  8 china:  6\n",
      "usa:  8 china:  6\n",
      "usa:  8 china:  7\n",
      "usa:  8 china:  7\n",
      "usa:  8 china:  7\n",
      "usa:  8 china:  8\n",
      "usa:  8 china:  8\n",
      "usa:  8 china:  8\n",
      "usa:  8 china:  8\n",
      "usa:  8 china:  8\n",
      "usa:  9 china:  8\n",
      "usa:  9 china:  8\n",
      "usa:  10 china:  8\n",
      "usa:  10 china:  8\n",
      "usa:  10 china:  8\n",
      "usa:  10 china:  8\n",
      "usa:  10 china:  8\n",
      "usa:  10 china:  8\n",
      "usa:  10 china:  9\n",
      "usa:  10 china:  9\n",
      "usa:  10 china:  9\n",
      "usa:  10 china:  9\n",
      "usa:  10 china:  9\n",
      "usa:  10 china:  9\n",
      "usa:  10 china:  9\n",
      "usa:  10 china:  10\n",
      "usa:  11 china:  10\n",
      "usa:  11 china:  10\n",
      "usa:  11 china:  10\n",
      "usa:  12 china:  10\n",
      "usa:  13 china:  10\n",
      "usa:  13 china:  10\n",
      "usa:  13 china:  10\n",
      "usa:  13 china:  10\n",
      "usa:  13 china:  10\n",
      "usa:  13 china:  10\n",
      "usa:  13 china:  10\n",
      "usa:  13 china:  10\n",
      "usa:  13 china:  10\n",
      "usa:  13 china:  10\n",
      "usa:  13 china:  10\n",
      "usa:  14 china:  10\n",
      "usa:  15 china:  10\n",
      "usa:  15 china:  10\n",
      "usa:  16 china:  10\n",
      "usa:  16 china:  10\n",
      "usa:  16 china:  10\n",
      "usa:  17 china:  10\n",
      "usa:  17 china:  11\n",
      "usa:  17 china:  11\n",
      "usa:  17 china:  11\n",
      "usa:  17 china:  11\n",
      "usa:  17 china:  11\n",
      "usa:  17 china:  11\n",
      "usa:  18 china:  11\n",
      "usa:  18 china:  11\n",
      "usa:  18 china:  11\n",
      "usa:  18 china:  11\n",
      "usa:  18 china:  11\n",
      "usa:  18 china:  11\n",
      "usa:  18 china:  11\n",
      "usa:  18 china:  11\n",
      "usa:  19 china:  11\n",
      "usa:  19 china:  12\n",
      "usa:  20 china:  12\n",
      "usa:  20 china:  13\n",
      "usa:  20 china:  13\n",
      "usa:  20 china:  13\n",
      "usa:  20 china:  13\n",
      "usa:  20 china:  14\n",
      "usa:  20 china:  14\n",
      "usa:  20 china:  14\n",
      "usa:  20 china:  14\n",
      "usa:  20 china:  14\n",
      "usa:  21 china:  14\n",
      "usa:  21 china:  14\n",
      "usa:  21 china:  14\n",
      "usa:  21 china:  14\n",
      "usa:  21 china:  14\n",
      "usa:  22 china:  14\n",
      "usa:  22 china:  14\n",
      "usa:  22 china:  14\n",
      "usa:  22 china:  14\n",
      "usa:  22 china:  14\n",
      "usa:  22 china:  14\n",
      "usa:  22 china:  14\n",
      "usa:  22 china:  14\n",
      "usa:  22 china:  14\n",
      "usa:  22 china:  14\n",
      "usa:  22 china:  14\n",
      "usa:  23 china:  14\n",
      "usa:  23 china:  14\n",
      "usa:  23 china:  14\n",
      "usa:  23 china:  14\n",
      "usa:  24 china:  14\n",
      "usa:  24 china:  14\n",
      "usa:  24 china:  14\n",
      "usa:  24 china:  14\n",
      "usa:  24 china:  14\n",
      "usa:  25 china:  14\n",
      "usa:  25 china:  14\n",
      "usa:  25 china:  14\n",
      "usa:  25 china:  15\n",
      "usa:  25 china:  15\n",
      "usa:  26 china:  15\n",
      "usa:  26 china:  15\n",
      "usa:  26 china:  15\n",
      "usa:  26 china:  16\n",
      "usa:  26 china:  16\n",
      "usa:  26 china:  16\n",
      "usa:  26 china:  16\n",
      "usa:  26 china:  16\n",
      "usa:  26 china:  16\n",
      "usa:  26 china:  16\n",
      "usa:  26 china:  16\n",
      "usa:  26 china:  16\n",
      "usa:  27 china:  16\n",
      "usa:  27 china:  17\n",
      "usa:  27 china:  17\n",
      "usa:  27 china:  17\n",
      "usa:  28 china:  17\n",
      "usa:  29 china:  17\n",
      "usa:  29 china:  17\n",
      "usa:  29 china:  18\n",
      "usa:  29 china:  18\n",
      "usa:  30 china:  18\n",
      "usa:  30 china:  18\n",
      "usa:  31 china:  18\n",
      "usa:  31 china:  19\n",
      "usa:  32 china:  19\n",
      "usa:  32 china:  19\n",
      "usa:  32 china:  19\n",
      "usa:  32 china:  19\n",
      "usa:  32 china:  19\n",
      "usa:  32 china:  19\n",
      "usa:  32 china:  19\n",
      "usa:  32 china:  19\n",
      "usa:  32 china:  19\n",
      "usa:  32 china:  19\n",
      "usa:  32 china:  19\n",
      "usa:  32 china:  19\n",
      "usa:  32 china:  19\n",
      "usa:  32 china:  19\n",
      "usa:  32 china:  19\n",
      "usa:  32 china:  19\n",
      "usa:  32 china:  19\n",
      "usa:  32 china:  19\n",
      "usa:  32 china:  19\n",
      "usa:  32 china:  19\n",
      "usa:  33 china:  19\n",
      "usa:  33 china:  19\n",
      "usa:  33 china:  19\n",
      "usa:  33 china:  20\n",
      "usa:  33 china:  20\n",
      "usa:  33 china:  21\n",
      "usa:  34 china:  21\n",
      "usa:  35 china:  21\n",
      "usa:  35 china:  21\n",
      "usa:  35 china:  21\n",
      "usa:  35 china:  21\n",
      "usa:  35 china:  21\n",
      "usa:  35 china:  21\n",
      "usa:  35 china:  21\n",
      "usa:  35 china:  21\n",
      "usa:  35 china:  21\n",
      "usa:  35 china:  21\n",
      "usa:  36 china:  21\n",
      "usa:  36 china:  21\n",
      "usa:  36 china:  21\n",
      "usa:  37 china:  21\n",
      "usa:  37 china:  21\n",
      "usa:  37 china:  21\n",
      "usa:  38 china:  21\n",
      "usa:  38 china:  21\n",
      "usa:  38 china:  21\n",
      "usa:  38 china:  21\n",
      "usa:  38 china:  21\n",
      "usa:  38 china:  21\n",
      "usa:  38 china:  21\n",
      "usa:  38 china:  22\n",
      "usa:  38 china:  22\n",
      "usa:  38 china:  22\n",
      "usa:  38 china:  22\n",
      "usa:  39 china:  22\n",
      "usa:  39 china:  22\n",
      "usa:  39 china:  23\n",
      "usa:  39 china:  23\n",
      "usa:  39 china:  23\n",
      "usa:  39 china:  23\n",
      "usa:  39 china:  23\n",
      "usa:  40 china:  23\n",
      "usa:  40 china:  23\n",
      "usa:  40 china:  23\n",
      "usa:  40 china:  23\n",
      "usa:  40 china:  23\n",
      "usa:  40 china:  23\n",
      "usa:  40 china:  23\n",
      "usa:  40 china:  23\n",
      "usa:  40 china:  23\n",
      "usa:  40 china:  23\n",
      "usa:  40 china:  23\n",
      "usa:  41 china:  23\n",
      "usa:  42 china:  23\n",
      "usa:  42 china:  23\n",
      "usa:  42 china:  23\n",
      "usa:  42 china:  23\n",
      "usa:  43 china:  23\n",
      "usa:  43 china:  24\n",
      "usa:  43 china:  24\n",
      "usa:  43 china:  25\n",
      "usa:  43 china:  25\n",
      "usa:  43 china:  25\n",
      "usa:  44 china:  25\n",
      "usa:  44 china:  25\n",
      "usa:  44 china:  25\n",
      "usa:  44 china:  25\n",
      "usa:  45 china:  25\n",
      "usa:  45 china:  25\n",
      "usa:  45 china:  25\n",
      "usa:  45 china:  25\n",
      "usa:  45 china:  25\n",
      "usa:  45 china:  25\n",
      "usa:  45 china:  25\n",
      "usa:  46 china:  25\n",
      "usa:  46 china:  26\n",
      "usa:  46 china:  26\n",
      "usa:  46 china:  26\n",
      "usa:  46 china:  26\n",
      "usa:  46 china:  26\n",
      "usa:  46 china:  26\n",
      "usa:  46 china:  26\n",
      "usa:  46 china:  26\n",
      "usa:  46 china:  26\n",
      "usa:  46 china:  26\n",
      "usa:  46 china:  26\n",
      "usa:  46 china:  26\n",
      "usa:  47 china:  26\n",
      "usa:  48 china:  26\n",
      "usa:  48 china:  27\n",
      "usa:  48 china:  27\n",
      "usa:  48 china:  27\n",
      "usa:  48 china:  28\n",
      "usa:  48 china:  28\n",
      "usa:  48 china:  28\n",
      "usa:  48 china:  28\n",
      "usa:  48 china:  29\n",
      "usa:  48 china:  30\n",
      "usa:  48 china:  30\n",
      "usa:  48 china:  30\n",
      "usa:  48 china:  30\n",
      "usa:  48 china:  30\n",
      "usa:  48 china:  30\n",
      "usa:  48 china:  30\n",
      "usa:  48 china:  30\n",
      "usa:  48 china:  31\n",
      "usa:  48 china:  31\n",
      "usa:  49 china:  31\n",
      "usa:  49 china:  31\n",
      "usa:  49 china:  31\n",
      "usa:  49 china:  32\n",
      "usa:  49 china:  32\n",
      "usa:  50 china:  32\n",
      "usa:  50 china:  32\n",
      "usa:  50 china:  32\n",
      "usa:  50 china:  32\n",
      "usa:  50 china:  33\n",
      "usa:  51 china:  33\n",
      "usa:  51 china:  33\n",
      "usa:  51 china:  33\n",
      "usa:  51 china:  33\n",
      "usa:  52 china:  33\n",
      "usa:  52 china:  33\n",
      "usa:  52 china:  33\n",
      "usa:  52 china:  33\n",
      "usa:  52 china:  33\n",
      "usa:  53 china:  33\n",
      "usa:  53 china:  34\n",
      "usa:  54 china:  34\n",
      "usa:  54 china:  34\n",
      "usa:  54 china:  34\n",
      "usa:  54 china:  34\n",
      "usa:  54 china:  34\n",
      "usa:  55 china:  34\n",
      "usa:  55 china:  34\n",
      "usa:  56 china:  34\n",
      "usa:  56 china:  34\n",
      "usa:  56 china:  34\n",
      "usa:  56 china:  34\n",
      "usa:  56 china:  34\n",
      "usa:  57 china:  34\n",
      "usa:  57 china:  34\n",
      "usa:  57 china:  35\n",
      "usa:  57 china:  35\n",
      "usa:  57 china:  35\n",
      "usa:  58 china:  35\n",
      "usa:  58 china:  35\n",
      "usa:  58 china:  35\n",
      "usa:  58 china:  35\n",
      "usa:  58 china:  35\n",
      "usa:  59 china:  35\n",
      "usa:  59 china:  35\n",
      "usa:  59 china:  35\n",
      "usa:  59 china:  35\n",
      "usa:  59 china:  35\n",
      "usa:  59 china:  35\n",
      "usa:  59 china:  35\n",
      "usa:  59 china:  35\n",
      "usa:  59 china:  35\n",
      "usa:  59 china:  35\n",
      "usa:  59 china:  35\n",
      "usa:  59 china:  35\n",
      "usa:  59 china:  36\n",
      "usa:  59 china:  37\n",
      "usa:  59 china:  37\n",
      "usa:  59 china:  37\n",
      "usa:  59 china:  37\n",
      "usa:  59 china:  37\n",
      "usa:  59 china:  37\n",
      "usa:  60 china:  37\n",
      "usa:  60 china:  37\n",
      "usa:  60 china:  37\n",
      "usa:  60 china:  37\n",
      "usa:  60 china:  37\n",
      "usa:  60 china:  37\n",
      "usa:  60 china:  37\n",
      "usa:  60 china:  37\n",
      "usa:  60 china:  37\n",
      "usa:  60 china:  37\n",
      "usa:  60 china:  37\n",
      "usa:  60 china:  38\n",
      "usa:  60 china:  38\n",
      "usa:  60 china:  38\n",
      "usa:  60 china:  38\n",
      "usa:  60 china:  38\n",
      "usa:  60 china:  38\n",
      "usa:  60 china:  38\n",
      "usa:  60 china:  38\n",
      "usa:  60 china:  38\n",
      "usa:  60 china:  38\n",
      "usa:  61 china:  38\n",
      "usa:  61 china:  38\n",
      "usa:  61 china:  38\n",
      "usa:  61 china:  38\n",
      "usa:  61 china:  38\n",
      "usa:  61 china:  38\n",
      "usa:  61 china:  38\n",
      "usa:  61 china:  38\n",
      "usa:  61 china:  39\n",
      "usa:  61 china:  39\n",
      "usa:  62 china:  39\n",
      "usa:  62 china:  39\n",
      "usa:  62 china:  39\n",
      "usa:  62 china:  39\n",
      "usa:  62 china:  39\n",
      "usa:  63 china:  39\n",
      "usa:  63 china:  39\n",
      "usa:  63 china:  39\n",
      "usa:  63 china:  39\n",
      "usa:  63 china:  39\n",
      "usa:  64 china:  39\n",
      "usa:  64 china:  40\n",
      "usa:  64 china:  40\n",
      "usa:  64 china:  40\n",
      "usa:  64 china:  40\n",
      "usa:  64 china:  40\n",
      "usa:  65 china:  40\n",
      "usa:  65 china:  40\n",
      "usa:  65 china:  40\n",
      "usa:  65 china:  40\n",
      "usa:  66 china:  40\n",
      "usa:  66 china:  40\n",
      "usa:  66 china:  40\n",
      "usa:  66 china:  41\n"
     ]
    },
    {
     "name": "stdout",
     "output_type": "stream",
     "text": [
      "usa:  66 china:  41\n",
      "usa:  66 china:  41\n",
      "usa:  66 china:  41\n",
      "usa:  66 china:  41\n",
      "usa:  67 china:  41\n",
      "usa:  67 china:  41\n",
      "usa:  67 china:  41\n",
      "usa:  67 china:  41\n",
      "usa:  67 china:  42\n",
      "usa:  67 china:  42\n",
      "usa:  67 china:  42\n",
      "usa:  67 china:  42\n",
      "usa:  67 china:  42\n",
      "usa:  67 china:  42\n",
      "usa:  67 china:  42\n",
      "usa:  67 china:  42\n",
      "usa:  67 china:  42\n",
      "usa:  67 china:  42\n",
      "usa:  68 china:  42\n",
      "usa:  68 china:  42\n",
      "usa:  68 china:  42\n",
      "usa:  68 china:  42\n",
      "usa:  68 china:  42\n",
      "usa:  68 china:  42\n",
      "usa:  69 china:  42\n",
      "usa:  69 china:  42\n",
      "usa:  69 china:  42\n",
      "usa:  69 china:  42\n",
      "usa:  69 china:  42\n",
      "usa:  70 china:  42\n",
      "usa:  70 china:  42\n",
      "usa:  70 china:  43\n",
      "usa:  70 china:  43\n",
      "usa:  70 china:  43\n",
      "usa:  70 china:  43\n",
      "usa:  70 china:  43\n",
      "usa:  71 china:  43\n",
      "usa:  71 china:  43\n",
      "usa:  71 china:  43\n",
      "usa:  71 china:  43\n",
      "usa:  71 china:  43\n",
      "usa:  71 china:  43\n",
      "usa:  71 china:  43\n",
      "usa:  71 china:  43\n",
      "usa:  72 china:  43\n",
      "usa:  72 china:  43\n",
      "usa:  72 china:  43\n",
      "usa:  72 china:  44\n",
      "usa:  72 china:  44\n",
      "usa:  72 china:  44\n",
      "usa:  72 china:  45\n",
      "usa:  72 china:  45\n",
      "usa:  72 china:  45\n",
      "usa:  72 china:  45\n",
      "usa:  73 china:  45\n",
      "usa:  74 china:  45\n",
      "usa:  74 china:  45\n",
      "usa:  74 china:  45\n",
      "usa:  74 china:  45\n",
      "usa:  74 china:  45\n",
      "usa:  74 china:  46\n",
      "usa:  75 china:  46\n",
      "usa:  75 china:  46\n",
      "usa:  75 china:  47\n",
      "usa:  75 china:  48\n",
      "usa:  75 china:  48\n",
      "usa:  75 china:  49\n",
      "usa:  75 china:  49\n",
      "usa:  75 china:  49\n",
      "usa:  75 china:  49\n",
      "usa:  75 china:  49\n",
      "usa:  76 china:  49\n",
      "usa:  76 china:  49\n",
      "usa:  76 china:  49\n",
      "usa:  76 china:  49\n",
      "usa:  76 china:  50\n",
      "usa:  76 china:  50\n",
      "usa:  76 china:  51\n",
      "usa:  76 china:  51\n",
      "usa:  76 china:  52\n",
      "usa:  76 china:  52\n",
      "usa:  76 china:  53\n",
      "usa:  76 china:  53\n",
      "usa:  76 china:  53\n",
      "usa:  77 china:  53\n",
      "usa:  77 china:  53\n",
      "usa:  77 china:  53\n",
      "usa:  77 china:  53\n",
      "usa:  77 china:  53\n",
      "usa:  77 china:  54\n",
      "usa:  77 china:  54\n",
      "usa:  77 china:  54\n",
      "usa:  77 china:  54\n",
      "usa:  77 china:  54\n",
      "usa:  77 china:  55\n",
      "usa:  77 china:  55\n",
      "usa:  77 china:  55\n",
      "usa:  78 china:  55\n",
      "usa:  78 china:  56\n",
      "usa:  78 china:  57\n",
      "usa:  78 china:  57\n",
      "usa:  78 china:  58\n",
      "usa:  78 china:  58\n",
      "usa:  79 china:  58\n",
      "usa:  79 china:  58\n",
      "usa:  79 china:  58\n",
      "usa:  79 china:  58\n",
      "usa:  79 china:  58\n",
      "usa:  79 china:  59\n",
      "usa:  79 china:  59\n",
      "usa:  79 china:  59\n",
      "usa:  80 china:  59\n",
      "usa:  80 china:  59\n",
      "usa:  80 china:  60\n",
      "usa:  81 china:  60\n",
      "usa:  82 china:  60\n",
      "usa:  82 china:  61\n",
      "usa:  82 china:  61\n",
      "usa:  82 china:  61\n",
      "usa:  83 china:  61\n",
      "usa:  83 china:  62\n",
      "usa:  83 china:  62\n",
      "usa:  83 china:  62\n",
      "usa:  83 china:  62\n",
      "usa:  83 china:  62\n",
      "usa:  83 china:  62\n",
      "usa:  84 china:  62\n",
      "usa:  84 china:  62\n",
      "usa:  84 china:  62\n",
      "usa:  84 china:  62\n",
      "usa:  84 china:  63\n",
      "usa:  84 china:  63\n",
      "usa:  85 china:  63\n",
      "usa:  85 china:  63\n",
      "usa:  85 china:  63\n",
      "usa:  85 china:  63\n",
      "usa:  85 china:  63\n",
      "usa:  85 china:  63\n",
      "usa:  85 china:  63\n",
      "usa:  85 china:  63\n",
      "usa:  85 china:  64\n",
      "usa:  86 china:  64\n",
      "usa:  86 china:  64\n",
      "usa:  86 china:  64\n",
      "usa:  86 china:  64\n",
      "usa:  86 china:  64\n",
      "usa:  87 china:  64\n",
      "usa:  87 china:  64\n",
      "usa:  87 china:  64\n",
      "usa:  87 china:  64\n",
      "usa:  87 china:  64\n",
      "usa:  88 china:  64\n",
      "usa:  88 china:  64\n",
      "usa:  88 china:  64\n",
      "usa:  89 china:  64\n",
      "usa:  89 china:  64\n",
      "usa:  89 china:  65\n",
      "usa:  89 china:  65\n",
      "usa:  89 china:  66\n",
      "usa:  89 china:  66\n",
      "usa:  89 china:  66\n",
      "usa:  90 china:  66\n",
      "usa:  90 china:  66\n",
      "usa:  90 china:  66\n",
      "usa:  90 china:  67\n",
      "usa:  90 china:  67\n",
      "usa:  90 china:  68\n",
      "usa:  91 china:  68\n",
      "usa:  91 china:  68\n",
      "usa:  91 china:  68\n",
      "usa:  91 china:  69\n",
      "usa:  91 china:  69\n",
      "usa:  92 china:  69\n",
      "usa:  92 china:  69\n",
      "usa:  92 china:  69\n",
      "usa:  92 china:  69\n",
      "usa:  92 china:  69\n",
      "usa:  92 china:  69\n",
      "usa:  93 china:  69\n",
      "usa:  93 china:  69\n",
      "usa:  93 china:  69\n",
      "usa:  93 china:  69\n",
      "usa:  93 china:  70\n",
      "usa:  94 china:  70\n",
      "usa:  94 china:  70\n",
      "usa:  94 china:  70\n",
      "usa:  94 china:  70\n",
      "usa:  94 china:  70\n",
      "usa:  94 china:  70\n",
      "usa:  94 china:  70\n",
      "usa:  94 china:  70\n",
      "usa:  94 china:  70\n",
      "usa:  94 china:  70\n",
      "usa:  95 china:  70\n",
      "usa:  95 china:  70\n",
      "usa:  95 china:  70\n",
      "usa:  95 china:  70\n",
      "usa:  95 china:  70\n",
      "usa:  96 china:  70\n",
      "usa:  97 china:  70\n",
      "usa:  97 china:  70\n",
      "usa:  97 china:  70\n",
      "usa:  97 china:  70\n",
      "usa:  97 china:  70\n",
      "usa:  97 china:  70\n",
      "usa:  97 china:  70\n",
      "usa:  97 china:  70\n",
      "usa:  97 china:  71\n",
      "usa:  97 china:  71\n",
      "usa:  97 china:  71\n",
      "usa:  97 china:  71\n",
      "usa:  97 china:  71\n",
      "usa:  97 china:  71\n",
      "usa:  97 china:  71\n",
      "usa:  97 china:  71\n",
      "usa:  97 china:  71\n",
      "usa:  98 china:  71\n",
      "usa:  98 china:  71\n",
      "usa:  98 china:  71\n",
      "usa:  98 china:  71\n",
      "usa:  98 china:  71\n",
      "usa:  98 china:  71\n",
      "usa:  98 china:  71\n",
      "usa:  98 china:  71\n",
      "usa:  98 china:  71\n",
      "usa:  99 china:  71\n",
      "usa:  99 china:  71\n",
      "usa:  99 china:  72\n",
      "usa:  99 china:  72\n",
      "usa:  99 china:  72\n",
      "usa:  99 china:  72\n",
      "usa:  99 china:  72\n",
      "usa:  99 china:  72\n",
      "usa:  99 china:  72\n",
      "usa:  99 china:  73\n",
      "usa:  100 china:  73\n",
      "usa:  101 china:  73\n",
      "usa:  101 china:  73\n",
      "usa:  101 china:  73\n",
      "usa:  101 china:  73\n",
      "usa:  101 china:  73\n",
      "usa:  102 china:  73\n",
      "usa:  102 china:  74\n",
      "usa:  102 china:  74\n",
      "usa:  103 china:  74\n",
      "usa:  104 china:  74\n",
      "usa:  104 china:  75\n",
      "usa:  104 china:  75\n",
      "usa:  104 china:  75\n",
      "usa:  105 china:  75\n",
      "usa:  105 china:  75\n",
      "usa:  105 china:  75\n",
      "usa:  106 china:  75\n",
      "usa:  106 china:  75\n",
      "usa:  106 china:  76\n",
      "usa:  106 china:  76\n",
      "usa:  106 china:  76\n",
      "usa:  106 china:  77\n",
      "usa:  106 china:  78\n",
      "usa:  106 china:  78\n",
      "usa:  106 china:  78\n",
      "usa:  106 china:  78\n",
      "usa:  106 china:  78\n",
      "usa:  106 china:  78\n",
      "usa:  107 china:  78\n",
      "usa:  107 china:  78\n",
      "usa:  107 china:  78\n",
      "usa:  107 china:  78\n",
      "usa:  107 china:  78\n",
      "usa:  107 china:  78\n",
      "usa:  107 china:  78\n",
      "usa:  107 china:  78\n",
      "usa:  107 china:  79\n",
      "usa:  107 china:  80\n",
      "usa:  107 china:  80\n",
      "usa:  107 china:  80\n",
      "usa:  107 china:  80\n",
      "usa:  107 china:  80\n",
      "usa:  108 china:  80\n",
      "usa:  108 china:  80\n",
      "usa:  108 china:  80\n",
      "usa:  108 china:  80\n",
      "usa:  108 china:  81\n",
      "usa:  108 china:  82\n",
      "usa:  108 china:  82\n",
      "usa:  109 china:  82\n",
      "usa:  109 china:  82\n",
      "usa:  109 china:  82\n",
      "usa:  109 china:  83\n",
      "usa:  109 china:  83\n",
      "usa:  110 china:  83\n",
      "usa:  110 china:  83\n",
      "usa:  110 china:  83\n",
      "usa:  110 china:  83\n",
      "usa:  110 china:  83\n",
      "usa:  110 china:  83\n",
      "usa:  111 china:  83\n",
      "usa:  111 china:  83\n",
      "usa:  111 china:  83\n",
      "usa:  111 china:  83\n",
      "usa:  111 china:  83\n",
      "usa:  112 china:  83\n",
      "usa:  113 china:  83\n",
      "usa:  113 china:  83\n",
      "usa:  114 china:  83\n",
      "usa:  114 china:  83\n",
      "usa:  114 china:  83\n",
      "usa:  114 china:  83\n",
      "usa:  114 china:  83\n",
      "usa:  114 china:  83\n",
      "usa:  114 china:  83\n",
      "usa:  114 china:  83\n",
      "usa:  114 china:  83\n",
      "usa:  114 china:  83\n",
      "usa:  114 china:  84\n",
      "usa:  114 china:  85\n",
      "usa:  114 china:  86\n",
      "usa:  114 china:  86\n",
      "usa:  114 china:  87\n",
      "usa:  115 china:  87\n",
      "usa:  115 china:  88\n",
      "usa:  115 china:  88\n",
      "usa:  115 china:  88\n",
      "usa:  115 china:  89\n",
      "usa:  116 china:  89\n",
      "usa:  116 china:  90\n",
      "usa:  116 china:  90\n",
      "usa:  116 china:  90\n",
      "usa:  116 china:  90\n",
      "usa:  116 china:  90\n",
      "usa:  116 china:  90\n",
      "usa:  116 china:  90\n",
      "usa:  117 china:  90\n",
      "usa:  117 china:  90\n",
      "usa:  117 china:  91\n",
      "usa:  117 china:  91\n",
      "usa:  118 china:  91\n",
      "usa:  118 china:  91\n",
      "usa:  118 china:  91\n",
      "usa:  118 china:  92\n",
      "usa:  118 china:  92\n",
      "usa:  119 china:  92\n",
      "usa:  119 china:  93\n",
      "usa:  119 china:  94\n",
      "usa:  119 china:  94\n",
      "usa:  120 china:  94\n",
      "usa:  120 china:  94\n",
      "usa:  121 china:  94\n",
      "usa:  121 china:  94\n",
      "usa:  121 china:  94\n",
      "usa:  121 china:  94\n",
      "usa:  121 china:  94\n",
      "usa:  121 china:  94\n",
      "usa:  122 china:  94\n",
      "usa:  122 china:  94\n",
      "usa:  122 china:  94\n",
      "usa:  122 china:  94\n",
      "usa:  122 china:  94\n",
      "usa:  123 china:  94\n",
      "usa:  124 china:  94\n",
      "usa:  124 china:  94\n",
      "usa:  124 china:  94\n",
      "usa:  124 china:  94\n",
      "usa:  124 china:  94\n",
      "usa:  124 china:  94\n",
      "usa:  124 china:  94\n",
      "usa:  125 china:  94\n",
      "usa:  125 china:  94\n",
      "usa:  126 china:  94\n",
      "usa:  126 china:  94\n",
      "usa:  127 china:  94\n",
      "usa:  127 china:  94\n",
      "usa:  128 china:  94\n",
      "usa:  128 china:  94\n",
      "usa:  128 china:  94\n",
      "usa:  129 china:  94\n",
      "usa:  129 china:  94\n",
      "usa:  129 china:  94\n",
      "usa:  129 china:  94\n",
      "usa:  129 china:  94\n",
      "usa:  129 china:  94\n",
      "usa:  129 china:  94\n",
      "usa:  129 china:  94\n",
      "usa:  129 china:  94\n",
      "usa:  130 china:  94\n",
      "usa:  130 china:  94\n",
      "usa:  130 china:  94\n",
      "usa:  130 china:  94\n",
      "usa:  130 china:  94\n",
      "usa:  130 china:  95\n",
      "usa:  130 china:  95\n",
      "usa:  130 china:  95\n",
      "usa:  131 china:  95\n",
      "usa:  131 china:  95\n",
      "usa:  131 china:  95\n",
      "usa:  131 china:  96\n",
      "usa:  131 china:  96\n",
      "usa:  131 china:  96\n",
      "usa:  131 china:  97\n",
      "usa:  131 china:  97\n",
      "usa:  131 china:  97\n",
      "usa:  131 china:  97\n"
     ]
    },
    {
     "name": "stdout",
     "output_type": "stream",
     "text": [
      "usa:  132 china:  97\n",
      "usa:  133 china:  97\n",
      "usa:  134 china:  97\n",
      "usa:  134 china:  97\n",
      "usa:  134 china:  97\n",
      "usa:  134 china:  98\n",
      "usa:  134 china:  98\n",
      "usa:  135 china:  98\n",
      "usa:  135 china:  98\n",
      "usa:  135 china:  98\n",
      "usa:  135 china:  98\n",
      "usa:  135 china:  98\n",
      "usa:  135 china:  98\n",
      "usa:  135 china:  98\n",
      "usa:  136 china:  98\n",
      "usa:  137 china:  98\n",
      "usa:  137 china:  99\n",
      "usa:  137 china:  99\n",
      "usa:  137 china:  99\n",
      "usa:  137 china:  99\n",
      "usa:  137 china:  99\n",
      "usa:  137 china:  99\n",
      "usa:  137 china:  99\n",
      "usa:  137 china:  99\n",
      "usa:  137 china:  100\n",
      "usa:  137 china:  100\n",
      "usa:  137 china:  100\n",
      "usa:  137 china:  100\n",
      "usa:  137 china:  100\n",
      "usa:  138 china:  100\n",
      "usa:  138 china:  100\n",
      "usa:  138 china:  100\n",
      "usa:  138 china:  100\n",
      "usa:  138 china:  101\n",
      "usa:  138 china:  101\n",
      "usa:  138 china:  101\n",
      "usa:  138 china:  101\n",
      "usa:  138 china:  101\n",
      "usa:  138 china:  101\n",
      "usa:  138 china:  101\n",
      "usa:  138 china:  101\n",
      "usa:  138 china:  101\n",
      "usa:  138 china:  101\n",
      "usa:  138 china:  101\n",
      "usa:  138 china:  101\n",
      "usa:  138 china:  101\n",
      "usa:  138 china:  101\n",
      "usa:  138 china:  101\n",
      "usa:  138 china:  101\n",
      "usa:  138 china:  101\n",
      "usa:  139 china:  101\n",
      "usa:  139 china:  101\n",
      "usa:  139 china:  101\n",
      "usa:  139 china:  101\n",
      "usa:  139 china:  101\n",
      "usa:  139 china:  101\n",
      "usa:  139 china:  101\n",
      "usa:  140 china:  101\n",
      "usa:  140 china:  102\n",
      "usa:  140 china:  103\n",
      "usa:  140 china:  103\n",
      "usa:  140 china:  103\n",
      "usa:  140 china:  104\n",
      "usa:  140 china:  105\n",
      "usa:  140 china:  105\n",
      "usa:  140 china:  105\n",
      "usa:  140 china:  106\n",
      "usa:  140 china:  107\n",
      "usa:  140 china:  107\n",
      "usa:  140 china:  107\n",
      "usa:  140 china:  107\n",
      "usa:  140 china:  108\n",
      "usa:  140 china:  108\n",
      "usa:  140 china:  108\n",
      "usa:  140 china:  108\n",
      "usa:  140 china:  108\n",
      "usa:  141 china:  108\n",
      "usa:  142 china:  108\n",
      "usa:  142 china:  108\n",
      "usa:  142 china:  109\n",
      "usa:  143 china:  109\n",
      "usa:  143 china:  109\n",
      "usa:  143 china:  109\n",
      "usa:  143 china:  110\n",
      "usa:  143 china:  110\n",
      "usa:  144 china:  110\n",
      "usa:  144 china:  110\n",
      "usa:  144 china:  110\n",
      "usa:  144 china:  110\n",
      "usa:  144 china:  110\n",
      "usa:  144 china:  110\n",
      "usa:  144 china:  110\n",
      "usa:  144 china:  110\n",
      "usa:  144 china:  111\n",
      "usa:  144 china:  111\n",
      "usa:  144 china:  111\n",
      "usa:  144 china:  111\n",
      "usa:  145 china:  111\n",
      "usa:  146 china:  111\n",
      "usa:  146 china:  111\n",
      "usa:  146 china:  111\n",
      "usa:  146 china:  112\n",
      "usa:  146 china:  112\n",
      "usa:  147 china:  112\n",
      "usa:  147 china:  112\n",
      "usa:  147 china:  112\n",
      "usa:  147 china:  112\n",
      "usa:  147 china:  112\n",
      "usa:  147 china:  112\n",
      "usa:  147 china:  112\n",
      "usa:  147 china:  113\n",
      "usa:  148 china:  113\n",
      "usa:  148 china:  113\n",
      "usa:  149 china:  113\n",
      "usa:  149 china:  113\n",
      "usa:  149 china:  113\n",
      "usa:  149 china:  114\n",
      "usa:  149 china:  114\n",
      "usa:  149 china:  114\n",
      "usa:  149 china:  114\n",
      "usa:  149 china:  114\n",
      "usa:  149 china:  114\n",
      "usa:  149 china:  114\n",
      "usa:  149 china:  114\n",
      "usa:  150 china:  114\n",
      "usa:  150 china:  114\n",
      "usa:  150 china:  114\n",
      "usa:  150 china:  114\n"
     ]
    }
   ],
   "source": [
    "myStream.filter(track=track_keyword)"
   ]
  },
  {
   "cell_type": "code",
   "execution_count": null,
   "metadata": {},
   "outputs": [],
   "source": []
  },
  {
   "cell_type": "code",
   "execution_count": null,
   "metadata": {},
   "outputs": [],
   "source": []
  },
  {
   "cell_type": "code",
   "execution_count": null,
   "metadata": {},
   "outputs": [],
   "source": []
  },
  {
   "cell_type": "code",
   "execution_count": null,
   "metadata": {},
   "outputs": [],
   "source": []
  },
  {
   "cell_type": "code",
   "execution_count": null,
   "metadata": {},
   "outputs": [],
   "source": []
  },
  {
   "cell_type": "code",
   "execution_count": null,
   "metadata": {},
   "outputs": [],
   "source": []
  },
  {
   "cell_type": "code",
   "execution_count": null,
   "metadata": {},
   "outputs": [],
   "source": []
  },
  {
   "cell_type": "code",
   "execution_count": null,
   "metadata": {},
   "outputs": [],
   "source": []
  },
  {
   "cell_type": "code",
   "execution_count": null,
   "metadata": {},
   "outputs": [],
   "source": []
  },
  {
   "cell_type": "code",
   "execution_count": null,
   "metadata": {},
   "outputs": [],
   "source": []
  },
  {
   "cell_type": "code",
   "execution_count": null,
   "metadata": {},
   "outputs": [],
   "source": []
  },
  {
   "cell_type": "code",
   "execution_count": null,
   "metadata": {},
   "outputs": [],
   "source": []
  },
  {
   "cell_type": "code",
   "execution_count": null,
   "metadata": {},
   "outputs": [],
   "source": []
  },
  {
   "cell_type": "code",
   "execution_count": null,
   "metadata": {},
   "outputs": [],
   "source": []
  },
  {
   "cell_type": "code",
   "execution_count": null,
   "metadata": {},
   "outputs": [],
   "source": []
  },
  {
   "cell_type": "code",
   "execution_count": null,
   "metadata": {},
   "outputs": [],
   "source": []
  },
  {
   "cell_type": "code",
   "execution_count": null,
   "metadata": {},
   "outputs": [],
   "source": []
  },
  {
   "cell_type": "code",
   "execution_count": null,
   "metadata": {},
   "outputs": [],
   "source": []
  },
  {
   "cell_type": "code",
   "execution_count": null,
   "metadata": {},
   "outputs": [],
   "source": []
  },
  {
   "cell_type": "code",
   "execution_count": null,
   "metadata": {},
   "outputs": [],
   "source": []
  },
  {
   "cell_type": "code",
   "execution_count": null,
   "metadata": {},
   "outputs": [],
   "source": []
  },
  {
   "cell_type": "code",
   "execution_count": null,
   "metadata": {},
   "outputs": [],
   "source": []
  },
  {
   "cell_type": "code",
   "execution_count": null,
   "metadata": {},
   "outputs": [],
   "source": []
  },
  {
   "cell_type": "code",
   "execution_count": null,
   "metadata": {},
   "outputs": [],
   "source": []
  },
  {
   "cell_type": "code",
   "execution_count": null,
   "metadata": {},
   "outputs": [],
   "source": []
  },
  {
   "cell_type": "code",
   "execution_count": null,
   "metadata": {},
   "outputs": [],
   "source": []
  },
  {
   "cell_type": "code",
   "execution_count": null,
   "metadata": {},
   "outputs": [],
   "source": []
  },
  {
   "cell_type": "code",
   "execution_count": null,
   "metadata": {},
   "outputs": [],
   "source": []
  },
  {
   "cell_type": "code",
   "execution_count": null,
   "metadata": {},
   "outputs": [],
   "source": []
  },
  {
   "cell_type": "code",
   "execution_count": null,
   "metadata": {},
   "outputs": [],
   "source": []
  },
  {
   "cell_type": "code",
   "execution_count": null,
   "metadata": {},
   "outputs": [],
   "source": []
  },
  {
   "cell_type": "code",
   "execution_count": null,
   "metadata": {},
   "outputs": [],
   "source": []
  },
  {
   "cell_type": "code",
   "execution_count": null,
   "metadata": {},
   "outputs": [],
   "source": []
  },
  {
   "cell_type": "code",
   "execution_count": null,
   "metadata": {},
   "outputs": [],
   "source": []
  },
  {
   "cell_type": "code",
   "execution_count": null,
   "metadata": {},
   "outputs": [],
   "source": []
  },
  {
   "cell_type": "code",
   "execution_count": null,
   "metadata": {},
   "outputs": [],
   "source": []
  },
  {
   "cell_type": "code",
   "execution_count": null,
   "metadata": {},
   "outputs": [],
   "source": []
  },
  {
   "cell_type": "code",
   "execution_count": null,
   "metadata": {},
   "outputs": [],
   "source": []
  },
  {
   "cell_type": "code",
   "execution_count": null,
   "metadata": {},
   "outputs": [],
   "source": []
  },
  {
   "cell_type": "code",
   "execution_count": null,
   "metadata": {},
   "outputs": [],
   "source": []
  },
  {
   "cell_type": "code",
   "execution_count": null,
   "metadata": {},
   "outputs": [],
   "source": []
  },
  {
   "cell_type": "code",
   "execution_count": null,
   "metadata": {},
   "outputs": [],
   "source": []
  },
  {
   "cell_type": "code",
   "execution_count": null,
   "metadata": {},
   "outputs": [],
   "source": []
  },
  {
   "cell_type": "code",
   "execution_count": null,
   "metadata": {},
   "outputs": [],
   "source": []
  },
  {
   "cell_type": "code",
   "execution_count": null,
   "metadata": {},
   "outputs": [],
   "source": []
  },
  {
   "cell_type": "code",
   "execution_count": null,
   "metadata": {},
   "outputs": [],
   "source": []
  },
  {
   "cell_type": "code",
   "execution_count": null,
   "metadata": {},
   "outputs": [],
   "source": []
  },
  {
   "cell_type": "code",
   "execution_count": null,
   "metadata": {},
   "outputs": [],
   "source": []
  },
  {
   "cell_type": "code",
   "execution_count": null,
   "metadata": {},
   "outputs": [],
   "source": []
  },
  {
   "cell_type": "code",
   "execution_count": null,
   "metadata": {},
   "outputs": [],
   "source": []
  },
  {
   "cell_type": "code",
   "execution_count": null,
   "metadata": {},
   "outputs": [],
   "source": []
  },
  {
   "cell_type": "code",
   "execution_count": null,
   "metadata": {},
   "outputs": [],
   "source": []
  },
  {
   "cell_type": "code",
   "execution_count": null,
   "metadata": {},
   "outputs": [],
   "source": []
  },
  {
   "cell_type": "code",
   "execution_count": null,
   "metadata": {},
   "outputs": [],
   "source": []
  },
  {
   "cell_type": "code",
   "execution_count": null,
   "metadata": {},
   "outputs": [],
   "source": []
  },
  {
   "cell_type": "code",
   "execution_count": null,
   "metadata": {},
   "outputs": [],
   "source": []
  },
  {
   "cell_type": "code",
   "execution_count": null,
   "metadata": {},
   "outputs": [],
   "source": []
  },
  {
   "cell_type": "code",
   "execution_count": null,
   "metadata": {},
   "outputs": [],
   "source": []
  },
  {
   "cell_type": "code",
   "execution_count": null,
   "metadata": {},
   "outputs": [],
   "source": []
  },
  {
   "cell_type": "code",
   "execution_count": null,
   "metadata": {},
   "outputs": [],
   "source": []
  },
  {
   "cell_type": "code",
   "execution_count": null,
   "metadata": {},
   "outputs": [],
   "source": []
  },
  {
   "cell_type": "code",
   "execution_count": null,
   "metadata": {},
   "outputs": [],
   "source": []
  },
  {
   "cell_type": "code",
   "execution_count": null,
   "metadata": {},
   "outputs": [],
   "source": []
  },
  {
   "cell_type": "code",
   "execution_count": null,
   "metadata": {},
   "outputs": [],
   "source": []
  },
  {
   "cell_type": "code",
   "execution_count": null,
   "metadata": {},
   "outputs": [],
   "source": []
  },
  {
   "cell_type": "code",
   "execution_count": null,
   "metadata": {},
   "outputs": [],
   "source": []
  },
  {
   "cell_type": "code",
   "execution_count": null,
   "metadata": {},
   "outputs": [],
   "source": []
  },
  {
   "cell_type": "code",
   "execution_count": null,
   "metadata": {},
   "outputs": [],
   "source": []
  },
  {
   "cell_type": "code",
   "execution_count": null,
   "metadata": {},
   "outputs": [],
   "source": []
  },
  {
   "cell_type": "code",
   "execution_count": null,
   "metadata": {},
   "outputs": [],
   "source": []
  },
  {
   "cell_type": "code",
   "execution_count": null,
   "metadata": {},
   "outputs": [],
   "source": []
  },
  {
   "cell_type": "code",
   "execution_count": null,
   "metadata": {},
   "outputs": [],
   "source": []
  },
  {
   "cell_type": "code",
   "execution_count": null,
   "metadata": {},
   "outputs": [],
   "source": []
  },
  {
   "cell_type": "code",
   "execution_count": null,
   "metadata": {},
   "outputs": [],
   "source": []
  },
  {
   "cell_type": "code",
   "execution_count": null,
   "metadata": {},
   "outputs": [],
   "source": []
  },
  {
   "cell_type": "code",
   "execution_count": null,
   "metadata": {},
   "outputs": [],
   "source": []
  },
  {
   "cell_type": "code",
   "execution_count": null,
   "metadata": {},
   "outputs": [],
   "source": []
  },
  {
   "cell_type": "code",
   "execution_count": null,
   "metadata": {},
   "outputs": [],
   "source": []
  },
  {
   "cell_type": "code",
   "execution_count": null,
   "metadata": {},
   "outputs": [],
   "source": []
  },
  {
   "cell_type": "code",
   "execution_count": null,
   "metadata": {},
   "outputs": [],
   "source": []
  },
  {
   "cell_type": "code",
   "execution_count": null,
   "metadata": {},
   "outputs": [],
   "source": []
  },
  {
   "cell_type": "code",
   "execution_count": null,
   "metadata": {},
   "outputs": [],
   "source": []
  },
  {
   "cell_type": "code",
   "execution_count": null,
   "metadata": {},
   "outputs": [],
   "source": []
  },
  {
   "cell_type": "code",
   "execution_count": null,
   "metadata": {},
   "outputs": [],
   "source": []
  },
  {
   "cell_type": "code",
   "execution_count": null,
   "metadata": {},
   "outputs": [],
   "source": []
  },
  {
   "cell_type": "code",
   "execution_count": null,
   "metadata": {},
   "outputs": [],
   "source": []
  },
  {
   "cell_type": "code",
   "execution_count": null,
   "metadata": {},
   "outputs": [],
   "source": []
  },
  {
   "cell_type": "code",
   "execution_count": null,
   "metadata": {},
   "outputs": [],
   "source": []
  },
  {
   "cell_type": "code",
   "execution_count": null,
   "metadata": {},
   "outputs": [],
   "source": []
  },
  {
   "cell_type": "code",
   "execution_count": null,
   "metadata": {},
   "outputs": [],
   "source": []
  },
  {
   "cell_type": "code",
   "execution_count": null,
   "metadata": {},
   "outputs": [],
   "source": []
  },
  {
   "cell_type": "code",
   "execution_count": null,
   "metadata": {},
   "outputs": [],
   "source": []
  },
  {
   "cell_type": "code",
   "execution_count": null,
   "metadata": {},
   "outputs": [],
   "source": []
  },
  {
   "cell_type": "code",
   "execution_count": null,
   "metadata": {},
   "outputs": [],
   "source": []
  },
  {
   "cell_type": "code",
   "execution_count": null,
   "metadata": {},
   "outputs": [],
   "source": []
  },
  {
   "cell_type": "code",
   "execution_count": null,
   "metadata": {},
   "outputs": [],
   "source": []
  },
  {
   "cell_type": "code",
   "execution_count": null,
   "metadata": {},
   "outputs": [],
   "source": []
  },
  {
   "cell_type": "code",
   "execution_count": null,
   "metadata": {},
   "outputs": [],
   "source": []
  },
  {
   "cell_type": "code",
   "execution_count": null,
   "metadata": {},
   "outputs": [],
   "source": []
  },
  {
   "cell_type": "code",
   "execution_count": null,
   "metadata": {},
   "outputs": [],
   "source": []
  }
 ],
 "metadata": {
  "kernelspec": {
   "display_name": "Python 3",
   "language": "python",
   "name": "python3"
  }
 },
 "nbformat": 4,
 "nbformat_minor": 4
}
